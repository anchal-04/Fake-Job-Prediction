{
 "cells": [
  {
   "cell_type": "code",
   "execution_count": 127,
   "metadata": {
    "ExecuteTime": {
     "end_time": "2024-05-08T07:44:03.629955Z",
     "start_time": "2024-05-08T07:44:03.580233Z"
    }
   },
   "outputs": [],
   "source": [
    "from sklearn.feature_extraction.text import CountVectorizer\n",
    "import pandas as panda\n",
    "from sklearn.feature_extraction.text import TfidfVectorizer\n",
    "import numpy as numpy\n",
    "from sklearn.model_selection import train_test_split\n",
    "from sklearn import metrics\n",
    "import seaborn as seaborn\n",
    "from sklearn.naive_bayes import MultinomialNB\n",
    "from sklearn.linear_model import SGDClassifier\n",
    "from sklearn.metrics import confusion_matrix"
   ]
  },
  {
   "cell_type": "code",
   "execution_count": 128,
   "metadata": {
    "ExecuteTime": {
     "end_time": "2024-05-08T07:44:04.729181Z",
     "start_time": "2024-05-08T07:44:04.018403Z"
    }
   },
   "outputs": [],
   "source": [
    "fraudulent_postings = panda.read_csv('../data/fraudulent_postings_cleaned.csv')"
   ]
  },
  {
   "cell_type": "code",
   "execution_count": 129,
   "metadata": {
    "ExecuteTime": {
     "end_time": "2024-05-08T07:44:23.962395Z",
     "start_time": "2024-05-08T07:44:23.889658Z"
    }
   },
   "outputs": [],
   "source": [
    "# Selecting relevant features and target variable\n",
    "features = fraudulent_postings[['telecommuting', 'ratio', 'summary', 'character_count']]\n",
    "target_variable = fraudulent_postings['fraudulent']"
   ]
  },
  {
   "cell_type": "code",
   "execution_count": 130,
   "metadata": {
    "ExecuteTime": {
     "end_time": "2024-05-08T07:45:55.576443Z",
     "start_time": "2024-05-08T07:45:55.484978Z"
    }
   },
   "outputs": [],
   "source": [
    "# set to a specific integer value to ensure consistent results across different runs of the code.\n",
    "random_state = 99\n",
    "# test_size is a parameter that specifies the proportion of the dataset that should be allocated to the testing set.\n",
    "test_size = 0.33\n",
    "\n",
    "features_train_set, features_test_set, target_variable_train_set, target_variable_test_set = train_test_split(features, target_variable, test_size=test_size, random_state=random_state)"
   ]
  },
  {
   "cell_type": "code",
   "execution_count": 131,
   "metadata": {
    "ExecuteTime": {
     "end_time": "2024-05-08T07:46:15.394963Z",
     "start_time": "2024-05-08T07:46:15.361476Z"
    }
   },
   "outputs": [],
   "source": [
    "# Creates new dataframe with number columns\n",
    "features_train_num_set = features_train_set[['telecommuting', 'ratio', 'character_count']]\n",
    "features_test_num_set = features_test_set[['telecommuting', 'ratio', 'character_count']]"
   ]
  },
  {
   "cell_type": "code",
   "execution_count": 132,
   "metadata": {
    "ExecuteTime": {
     "end_time": "2024-05-08T07:47:04.748241Z",
     "start_time": "2024-05-08T07:47:02.620053Z"
    }
   },
   "outputs": [],
   "source": [
    "# This initializes a CountVectorizer object with English stop words removed. Stop words are common words like \"the\", \"is\", \"in\", etc.,\n",
    "count_vectorizer = CountVectorizer(stop_words='english')\n",
    "\n",
    "# Transform summary data from training set into numerical feature vectors\n",
    "count_train_features = count_vectorizer.fit_transform(features_train_set.summary.values)\n",
    "\n",
    "# Transform summary data from testing set into numerical feature vectors\n",
    "count_test_features = count_vectorizer.transform(features_test_set.summary.values)"
   ]
  },
  {
   "cell_type": "code",
   "execution_count": 133,
   "metadata": {
    "ExecuteTime": {
     "end_time": "2024-05-08T07:47:50.793290Z",
     "start_time": "2024-05-08T07:47:48.919436Z"
    }
   },
   "outputs": [],
   "source": [
    "# Initialize TfidfVectorizer with English stop words removed and max document frequency set to 100%\n",
    "tfidf_vectorizer = TfidfVectorizer(stop_words=\"english\", max_df=1.0)\n",
    "\n",
    "# Transform text data from training set into TF-IDF weighted numerical feature vectors\n",
    "tfidf_train_features = tfidf_vectorizer.fit_transform(features_train_set.summary)\n",
    "\n",
    "# Transform text data from testing set into TF-IDF weighted numerical feature vectors\n",
    "tfidf_test_features = tfidf_vectorizer.transform(features_test_set.summary)"
   ]
  },
  {
   "cell_type": "code",
   "execution_count": 134,
   "metadata": {
    "ExecuteTime": {
     "end_time": "2024-05-08T07:48:15.519324Z",
     "start_time": "2024-05-08T07:48:14.135524Z"
    }
   },
   "outputs": [],
   "source": [
    "# Create DataFrame from the dense representation of CountVectorizer output\n",
    "count_df = panda.DataFrame(count_train_features.toarray(), columns=count_vectorizer.get_feature_names_out())\n",
    "\n",
    "# Create DataFrame from the dense representation of TfidfVectorizer output\n",
    "tfidf_df = panda.DataFrame(tfidf_train_features.toarray(), columns=tfidf_vectorizer.get_feature_names_out())"
   ]
  },
  {
   "cell_type": "code",
   "execution_count": 135,
   "metadata": {
    "ExecuteTime": {
     "end_time": "2024-05-08T07:48:39.129411Z",
     "start_time": "2024-05-08T07:48:39.054Z"
    }
   },
   "outputs": [
    {
     "name": "stdout",
     "output_type": "stream",
     "text": [
      "Accuracy: 0.9648169336384439\n"
     ]
    }
   ],
   "source": [
    "# Initialize Multinomial Naive Bayes classifier\n",
    "nb_classifier = MultinomialNB()\n",
    "\n",
    "# Train the classifier on count-based features and corresponding labels from the training set\n",
    "nb_classifier.fit(count_train_features, target_variable_train_set)\n",
    "\n",
    "# Generate predictions for the test set using the trained classifier\n",
    "predictions = nb_classifier.predict(count_test_features)\n",
    "\n",
    "# Calculate the accuracy of the predictions\n",
    "accuracy = metrics.accuracy_score(target_variable_test_set, predictions)\n",
    "\n",
    "# Print the accuracy score\n",
    "print(\"Accuracy:\", accuracy)"
   ]
  },
  {
   "cell_type": "code",
   "execution_count": 136,
   "metadata": {
    "ExecuteTime": {
     "end_time": "2024-05-08T07:48:49.911490Z",
     "start_time": "2024-05-08T07:48:49.886337Z"
    }
   },
   "outputs": [
    {
     "name": "stdout",
     "output_type": "stream",
     "text": [
      "F1 Score: 0.7050359712230215\n"
     ]
    }
   ],
   "source": [
    "# Calculate the F1 score\n",
    "f1_score = metrics.f1_score(target_variable_test_set, predictions)\n",
    "\n",
    "# Print the F1 score\n",
    "print(\"F1 Score:\", f1_score)"
   ]
  },
  {
   "cell_type": "code",
   "execution_count": 137,
   "metadata": {
    "ExecuteTime": {
     "end_time": "2024-05-08T07:49:07.488871Z",
     "start_time": "2024-05-08T07:49:07.284205Z"
    }
   },
   "outputs": [
    {
     "name": "stdout",
     "output_type": "stream",
     "text": [
      "Accuracy (Logistic Regression - Log): 0.9731121281464531\n"
     ]
    }
   ],
   "source": [
    "# Initialize SGDClassifier with 'log' loss function\n",
    "clf_log = SGDClassifier(loss='log_loss').fit(count_train_features, target_variable_train_set)\n",
    "\n",
    "# Generate predictions using the trained logistic regression classifier\n",
    "pred_log = clf_log.predict(count_test_features)\n",
    "\n",
    "# Calculate the accuracy of the predictions\n",
    "accuracy_log = metrics.accuracy_score(target_variable_test_set, pred_log)\n",
    "\n",
    "# Print the accuracy score\n",
    "print(\"Accuracy (Logistic Regression - Log):\", accuracy_log)"
   ]
  },
  {
   "cell_type": "code",
   "execution_count": 139,
   "metadata": {
    "ExecuteTime": {
     "end_time": "2024-05-08T07:49:23.020512Z",
     "start_time": "2024-05-08T07:49:22.921338Z"
    }
   },
   "outputs": [
    {
     "name": "stdout",
     "output_type": "stream",
     "text": [
      "Accuracy (Logistic Regression - Numerical): 0.9273455377574371\n"
     ]
    }
   ],
   "source": [
    "# Initialize SGDClassifier with 'log' loss function for logistic regression\n",
    "clf_num = SGDClassifier(loss='log_loss').fit(features_train_num_set, target_variable_train_set)\n",
    "\n",
    "# Generate predictions using the trained logistic regression classifier\n",
    "pred_num = clf_num.predict(features_test_num_set)\n",
    "\n",
    "# Calculate the accuracy of the predictions\n",
    "accuracy_num = metrics.accuracy_score(target_variable_test_set, pred_num)\n",
    "\n",
    "# Print the accuracy score\n",
    "print(\"Accuracy (Logistic Regression - Numerical):\", accuracy_num)"
   ]
  },
  {
   "cell_type": "code",
   "execution_count": 140,
   "metadata": {
    "ExecuteTime": {
     "end_time": "2024-05-08T07:49:28.904859Z",
     "start_time": "2024-05-08T07:49:28.895204Z"
    }
   },
   "outputs": [],
   "source": [
    "prediction_array = []\n",
    "\n",
    "# Combine predictions from pred_num and pred_log\n",
    "for num_pred, log_pred in zip(pred_num, pred_log):\n",
    "    if num_pred == 0 and log_pred == 0:\n",
    "        prediction_array.append(0)\n",
    "    else:\n",
    "        prediction_array.append(1)\n"
   ]
  },
  {
   "cell_type": "code",
   "execution_count": 141,
   "metadata": {
    "ExecuteTime": {
     "end_time": "2024-05-08T07:49:35.768445Z",
     "start_time": "2024-05-08T07:49:35.757798Z"
    }
   },
   "outputs": [
    {
     "name": "stdout",
     "output_type": "stream",
     "text": [
      "Combined Model Accuracy Score: 0.9731121281464531\n"
     ]
    }
   ],
   "source": [
    "# Calculate the accuracy score of the combined predictions compared to the actual labels\n",
    "accuracy_combined = metrics.accuracy_score(target_variable_test_set, prediction_array)\n",
    "\n",
    "print(\"Combined Model Accuracy Score:\", accuracy_combined)"
   ]
  },
  {
   "cell_type": "code",
   "execution_count": 142,
   "metadata": {
    "ExecuteTime": {
     "end_time": "2024-05-08T07:49:39.219779Z",
     "start_time": "2024-05-08T07:49:39.209494Z"
    }
   },
   "outputs": [
    {
     "name": "stdout",
     "output_type": "stream",
     "text": [
      "Combined Model F1 Score: 0.8097165991902834\n"
     ]
    }
   ],
   "source": [
    "# Compute the F1 score of the combined predictions compared to the actual labels\n",
    "f1_score_combined = metrics.f1_score(target_variable_test_set, prediction_array)\n",
    "\n",
    "# Print the F1 score\n",
    "print(\"Combined Model F1 Score:\", f1_score_combined)"
   ]
  },
  {
   "cell_type": "code",
   "execution_count": 143,
   "metadata": {
    "ExecuteTime": {
     "end_time": "2024-05-08T07:49:45.452529Z",
     "start_time": "2024-05-08T07:49:45.430397Z"
    }
   },
   "outputs": [],
   "source": [
    "# Calculate the confusion matrix\n",
    "cf_matrix = confusion_matrix(target_variable_test_set, prediction_array)"
   ]
  },
  {
   "cell_type": "code",
   "execution_count": 144,
   "metadata": {
    "ExecuteTime": {
     "end_time": "2024-05-08T07:49:50.627151Z",
     "start_time": "2024-05-08T07:49:50.428594Z"
    }
   },
   "outputs": [
    {
     "data": {
      "image/png": "[encoded data removed]",
      "text/plain": [
       "<Figure size 640x480 with 2 Axes>"
      ]
     },
     "metadata": {},
     "output_type": "display_data"
    }
   ],
   "source": [
    "# Prepare labels for heatmap visualization of the confusion matrix\n",
    "group_names = [\"True Negatives\", \"False Positives\", \"False Negatives\", \"True Positives\"]\n",
    "group_counts = [\"{0:0.0f}\".format(value) for value in cf_matrix.flatten()]\n",
    "group_percentages = [\"{0:.2%}\".format(value) for value in cf_matrix.flatten() / numpy.sum(cf_matrix)]\n",
    "labels = [f'{name}\\nCount: {count}\\nPercentage: {percentage}' for name, count, percentage in zip(group_names, group_counts, group_percentages)]\n",
    "labels = numpy.asarray(labels).reshape(2, 2)\n",
    "seaborn.heatmap(cf_matrix, annot=labels, fmt='', cmap='Blues');"
   ]
  },
  {
   "cell_type": "code",
   "execution_count": 145,
   "metadata": {
    "ExecuteTime": {
     "end_time": "2024-05-08T07:50:00.793197Z",
     "start_time": "2024-05-08T07:50:00.759340Z"
    }
   },
   "outputs": [
    {
     "name": "stdout",
     "output_type": "stream",
     "text": [
      "Number of samples in class 0: 3242\n",
      "Number of samples in class 1: 254\n"
     ]
    }
   ],
   "source": [
    "count_class_0 = (target_variable_test_set == 0).sum()\n",
    "count_class_1 = (target_variable_test_set == 1).sum()\n",
    "\n",
    "print(\"Number of samples in class 0:\", count_class_0)\n",
    "print(\"Number of samples in class 1:\", count_class_1)\n"
   ]
  }
 ],
 "metadata": {
  "kernelspec": {
   "display_name": "Python 3 (ipykernel)",
   "language": "python",
   "name": "python3"
  },
  "language_info": {
   "codemirror_mode": {
    "name": "ipython",
    "version": 3
   },
   "file_extension": ".py",
   "mimetype": "text/x-python",
   "name": "python",
   "nbconvert_exporter": "python",
   "pygments_lexer": "ipython3",
   "version": "3.12.1"
  }
 },
 "nbformat": 4,
 "nbformat_minor": 4
}
